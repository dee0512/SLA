{
 "cells": [
  {
   "cell_type": "code",
   "execution_count": 1,
   "id": "9a352d60-fba7-4873-8692-da1c841875f3",
   "metadata": {},
   "outputs": [
    {
     "name": "stderr",
     "output_type": "stream",
     "text": [
      "c:\\python37\\lib\\site-packages\\tqdm\\auto.py:22: TqdmWarning: IProgress not found. Please update jupyter and ipywidgets. See https://ipywidgets.readthedocs.io/en/stable/user_install.html\n",
      "  from .autonotebook import tqdm as notebook_tqdm\n"
     ]
    }
   ],
   "source": [
    "import numpy as np\n",
    "import plotly.graph_objects as go\n",
    "import sys\n",
    "import pandas as pd\n",
    "import copy\n",
    "from tqdm import tqdm\n",
    "import cv2\n",
    "sys.path.append(\"../\")\n",
    "from layers import get_layers\n",
    "from states import States\n",
    "import TD3\n",
    "import utils\n",
    "from hyperparameters import get_hyperparameters\n",
    "from common import make_env, create_folders, make_env_cc"
   ]
  },
  {
   "cell_type": "code",
   "execution_count": 6,
   "id": "937d9f50-7d27-4019-8479-29504854bbca",
   "metadata": {},
   "outputs": [],
   "source": [
    "env_name = \"InvertedPendulum-v2\"\n",
    "p = 0.5\n",
    "augment_type = \"AsymTD3\"\n",
    "bests = []\n",
    "lcs = []\n",
    "for seed in range(10):\n",
    "    arguments = [augment_type, env_name, seed]\n",
    "    file_name = '_'.join([str(x) for x in arguments])\n",
    "    total = np.load(f\"../results/{file_name}.npy\")\n",
    "    lcs.append(total)\n",
    "    bests.append(max(total))\n",
    "# td3 = []   \n",
    "# for seed in range(10):\n",
    "#     arguments = [env_name, seed]\n",
    "#     file_name = '_'.join([str(x) for x in arguments])\n",
    "#     total = np.load(f\"../results/{file_name}.npy\")\n",
    "#     td3.append(total)\n",
    "    \n",
    "lcs = np.array(lcs)\n",
    "lcs = np.mean(lcs, axis=0)\n",
    "\n",
    "# td3 = np.array(td3)\n",
    "# td3 = np.mean(td3, axis=0)"
   ]
  },
  {
   "cell_type": "code",
   "execution_count": 8,
   "id": "9b116a38-93c1-42a2-8006-e9e3fd2c2b25",
   "metadata": {},
   "outputs": [
    {
     "data": {
      "text/plain": [
       "(967.1600000000001, 44.814644927746556)"
      ]
     },
     "execution_count": 8,
     "metadata": {},
     "output_type": "execute_result"
    }
   ],
   "source": [
    "np.mean(bests), np.std(bests)"
   ]
  },
  {
   "cell_type": "code",
   "execution_count": 5,
   "id": "8ad8b0bd-c17a-4f04-be73-1b0eccdafb77",
   "metadata": {},
   "outputs": [
    {
     "data": {
      "application/vnd.plotly.v1+json": {
       "config": {
        "plotlyServerURL": "https://plot.ly"
       },
       "data": [
        {
         "line": {
          "color": "Green",
          "dash": "dashdot",
          "width": 2
         },
         "name": "SLA",
         "type": "scatter",
         "x": [
          0,
          5000,
          10000,
          15000,
          20000,
          25000,
          30000,
          35000,
          40000,
          45000,
          50000,
          55000,
          60000,
          65000,
          70000,
          75000,
          80000,
          85000,
          90000,
          95000,
          100000,
          105000,
          110000,
          115000,
          120000,
          125000,
          130000,
          135000,
          140000,
          145000,
          150000,
          155000,
          160000,
          165000,
          170000,
          175000,
          180000,
          185000,
          190000,
          195000,
          200000,
          205000,
          210000,
          215000,
          220000,
          225000,
          230000,
          235000,
          240000,
          245000,
          250000,
          255000,
          260000,
          265000,
          270000,
          275000,
          280000,
          285000,
          290000,
          295000,
          300000,
          305000,
          310000,
          315000,
          320000,
          325000,
          330000,
          335000,
          340000,
          345000,
          350000,
          355000,
          360000,
          365000,
          370000,
          375000,
          380000,
          385000,
          390000,
          395000,
          400000,
          405000,
          410000,
          415000,
          420000,
          425000,
          430000,
          435000,
          440000,
          445000,
          450000,
          455000,
          460000,
          465000,
          470000,
          475000,
          480000,
          485000,
          490000,
          495000,
          500000,
          505000,
          510000,
          515000,
          520000,
          525000,
          530000,
          535000,
          540000,
          545000,
          550000,
          555000,
          560000,
          565000,
          570000,
          575000,
          580000,
          585000,
          590000,
          595000,
          600000,
          605000,
          610000,
          615000,
          620000,
          625000,
          630000,
          635000,
          640000,
          645000,
          650000,
          655000,
          660000,
          665000,
          670000,
          675000,
          680000,
          685000,
          690000,
          695000,
          700000,
          705000,
          710000,
          715000,
          720000,
          725000,
          730000,
          735000,
          740000,
          745000,
          750000,
          755000,
          760000,
          765000,
          770000,
          775000,
          780000,
          785000,
          790000,
          795000,
          800000,
          805000,
          810000,
          815000,
          820000,
          825000,
          830000,
          835000,
          840000,
          845000,
          850000,
          855000,
          860000,
          865000,
          870000,
          875000,
          880000,
          885000,
          890000,
          895000,
          900000,
          905000,
          910000,
          915000,
          920000,
          925000,
          930000,
          935000,
          940000,
          945000,
          950000,
          955000,
          960000,
          965000,
          970000,
          975000,
          980000,
          985000,
          990000,
          995000
         ],
         "y": [
          84.42999999999999,
          103.11999999999998,
          107.02000000000001,
          123.94000000000001,
          149.95,
          146.01,
          190.3,
          202.54,
          204.01,
          238.18,
          240.68,
          255.3,
          260.47999999999996,
          258.04,
          249.81,
          260.9,
          249.5,
          285.09000000000003,
          303.74,
          296.4,
          303.44,
          307.30999999999995,
          290.15,
          299.59000000000003,
          326.1,
          318.98999999999995,
          358.65,
          348.42,
          386.59999999999997,
          307.38,
          382.46000000000004,
          390.41999999999996,
          384.29,
          355.05,
          355.07,
          423.40999999999997,
          427.36,
          422.73999999999995,
          452.65999999999997,
          418.6199999999999,
          411.39000000000004,
          404.02,
          460.71000000000004,
          470.91,
          377.85,
          437.5,
          431.45,
          416.28000000000003,
          457.95,
          432.1,
          390.79,
          373.62,
          452.73999999999995,
          470.66999999999996,
          459.25,
          458.9,
          468.15,
          468.6,
          468.23,
          546.8599999999999,
          481.02,
          516.1899999999999,
          423.3,
          498.8,
          438.68999999999994,
          512.5899999999999,
          501.95,
          604.3199999999999,
          530.44,
          522.0799999999999,
          523.07,
          517.9599999999999,
          571.16,
          472.68999999999994,
          505.75,
          553.6600000000001,
          627.46,
          534.7,
          560.6400000000001,
          631.4300000000001,
          478.8,
          582.8199999999999,
          519.5699999999999,
          539.64,
          559.96,
          547.3199999999999,
          582.13,
          579.74,
          513.1200000000001,
          477.89,
          507.25,
          543.5400000000001,
          522.99,
          405.12000000000006,
          607.37,
          491.62,
          464.94000000000005,
          623.0400000000001,
          480.4700000000001,
          525.89,
          548.11,
          546.1,
          591.9200000000001,
          607.9,
          546.3,
          603.04,
          409.09000000000003,
          570.79,
          594.58,
          623.3000000000001,
          509.68,
          512.2299999999999,
          725.6800000000001,
          494.77,
          477.78999999999996,
          439.14,
          675.38,
          651.71,
          558.8499999999999,
          394.97,
          594.76,
          434.1,
          540.05,
          569.4200000000001,
          571.9599999999999,
          474.86,
          554.93,
          509.3,
          476.95,
          665.9,
          525.3500000000001,
          535.4100000000001,
          522.42,
          550.3199999999999,
          592.8399999999999,
          589.3399999999999,
          544.2900000000001,
          513.4,
          591.4199999999998,
          459.4500000000001,
          480.87,
          645.8499999999999,
          517.3399999999999,
          521.14,
          634.9200000000001,
          567.4,
          370.52000000000004,
          561.86,
          579.03,
          603.5799999999999,
          617.96,
          470.1,
          507.5799999999999,
          590.57,
          556.6099999999999,
          612.4100000000001,
          648.78,
          562.9499999999999,
          642.39,
          463.64,
          592.1899999999999,
          715.7800000000001,
          464.07,
          524.9399999999999,
          563.33,
          546.87,
          527.9399999999999,
          464.78999999999996,
          739.31,
          524.1299999999999,
          575.83,
          585.9,
          650.24,
          584.6299999999999,
          513.9399999999999,
          586.1,
          579.01,
          521.9799999999999,
          645.1200000000001,
          565.7900000000002,
          485.96999999999997,
          670.1600000000001,
          659.7500000000001,
          571.36,
          455.28000000000003,
          556.1800000000001,
          629.95,
          572.78,
          550.0500000000001,
          523.9499999999999,
          601.97,
          569.47,
          577.6899999999998,
          480.78999999999996,
          540.8800000000002,
          446.4999999999999,
          583.78,
          496.55999999999995,
          448.53999999999996,
          742.1500000000001
         ]
        }
       ],
       "layout": {
        "font": {
         "family": "Times New Roman",
         "size": 20
        },
        "height": 400,
        "legend": {
         "x": 1.2,
         "xanchor": "right",
         "y": 0,
         "yanchor": "bottom"
        },
        "margin": {
         "b": 2,
         "l": 2,
         "pad": 0,
         "r": 2,
         "t": 40
        },
        "plot_bgcolor": "white",
        "showlegend": true,
        "template": {
         "data": {
          "bar": [
           {
            "error_x": {
             "color": "#2a3f5f"
            },
            "error_y": {
             "color": "#2a3f5f"
            },
            "marker": {
             "line": {
              "color": "#E5ECF6",
              "width": 0.5
             },
             "pattern": {
              "fillmode": "overlay",
              "size": 10,
              "solidity": 0.2
             }
            },
            "type": "bar"
           }
          ],
          "barpolar": [
           {
            "marker": {
             "line": {
              "color": "#E5ECF6",
              "width": 0.5
             },
             "pattern": {
              "fillmode": "overlay",
              "size": 10,
              "solidity": 0.2
             }
            },
            "type": "barpolar"
           }
          ],
          "carpet": [
           {
            "aaxis": {
             "endlinecolor": "#2a3f5f",
             "gridcolor": "white",
             "linecolor": "white",
             "minorgridcolor": "white",
             "startlinecolor": "#2a3f5f"
            },
            "baxis": {
             "endlinecolor": "#2a3f5f",
             "gridcolor": "white",
             "linecolor": "white",
             "minorgridcolor": "white",
             "startlinecolor": "#2a3f5f"
            },
            "type": "carpet"
           }
          ],
          "choropleth": [
           {
            "colorbar": {
             "outlinewidth": 0,
             "ticks": ""
            },
            "type": "choropleth"
           }
          ],
          "contour": [
           {
            "colorbar": {
             "outlinewidth": 0,
             "ticks": ""
            },
            "colorscale": [
             [
              0,
              "#0d0887"
             ],
             [
              0.1111111111111111,
              "#46039f"
             ],
             [
              0.2222222222222222,
              "#7201a8"
             ],
             [
              0.3333333333333333,
              "#9c179e"
             ],
             [
              0.4444444444444444,
              "#bd3786"
             ],
             [
              0.5555555555555556,
              "#d8576b"
             ],
             [
              0.6666666666666666,
              "#ed7953"
             ],
             [
              0.7777777777777778,
              "#fb9f3a"
             ],
             [
              0.8888888888888888,
              "#fdca26"
             ],
             [
              1,
              "#f0f921"
             ]
            ],
            "type": "contour"
           }
          ],
          "contourcarpet": [
           {
            "colorbar": {
             "outlinewidth": 0,
             "ticks": ""
            },
            "type": "contourcarpet"
           }
          ],
          "heatmap": [
           {
            "colorbar": {
             "outlinewidth": 0,
             "ticks": ""
            },
            "colorscale": [
             [
              0,
              "#0d0887"
             ],
             [
              0.1111111111111111,
              "#46039f"
             ],
             [
              0.2222222222222222,
              "#7201a8"
             ],
             [
              0.3333333333333333,
              "#9c179e"
             ],
             [
              0.4444444444444444,
              "#bd3786"
             ],
             [
              0.5555555555555556,
              "#d8576b"
             ],
             [
              0.6666666666666666,
              "#ed7953"
             ],
             [
              0.7777777777777778,
              "#fb9f3a"
             ],
             [
              0.8888888888888888,
              "#fdca26"
             ],
             [
              1,
              "#f0f921"
             ]
            ],
            "type": "heatmap"
           }
          ],
          "heatmapgl": [
           {
            "colorbar": {
             "outlinewidth": 0,
             "ticks": ""
            },
            "colorscale": [
             [
              0,
              "#0d0887"
             ],
             [
              0.1111111111111111,
              "#46039f"
             ],
             [
              0.2222222222222222,
              "#7201a8"
             ],
             [
              0.3333333333333333,
              "#9c179e"
             ],
             [
              0.4444444444444444,
              "#bd3786"
             ],
             [
              0.5555555555555556,
              "#d8576b"
             ],
             [
              0.6666666666666666,
              "#ed7953"
             ],
             [
              0.7777777777777778,
              "#fb9f3a"
             ],
             [
              0.8888888888888888,
              "#fdca26"
             ],
             [
              1,
              "#f0f921"
             ]
            ],
            "type": "heatmapgl"
           }
          ],
          "histogram": [
           {
            "marker": {
             "pattern": {
              "fillmode": "overlay",
              "size": 10,
              "solidity": 0.2
             }
            },
            "type": "histogram"
           }
          ],
          "histogram2d": [
           {
            "colorbar": {
             "outlinewidth": 0,
             "ticks": ""
            },
            "colorscale": [
             [
              0,
              "#0d0887"
             ],
             [
              0.1111111111111111,
              "#46039f"
             ],
             [
              0.2222222222222222,
              "#7201a8"
             ],
             [
              0.3333333333333333,
              "#9c179e"
             ],
             [
              0.4444444444444444,
              "#bd3786"
             ],
             [
              0.5555555555555556,
              "#d8576b"
             ],
             [
              0.6666666666666666,
              "#ed7953"
             ],
             [
              0.7777777777777778,
              "#fb9f3a"
             ],
             [
              0.8888888888888888,
              "#fdca26"
             ],
             [
              1,
              "#f0f921"
             ]
            ],
            "type": "histogram2d"
           }
          ],
          "histogram2dcontour": [
           {
            "colorbar": {
             "outlinewidth": 0,
             "ticks": ""
            },
            "colorscale": [
             [
              0,
              "#0d0887"
             ],
             [
              0.1111111111111111,
              "#46039f"
             ],
             [
              0.2222222222222222,
              "#7201a8"
             ],
             [
              0.3333333333333333,
              "#9c179e"
             ],
             [
              0.4444444444444444,
              "#bd3786"
             ],
             [
              0.5555555555555556,
              "#d8576b"
             ],
             [
              0.6666666666666666,
              "#ed7953"
             ],
             [
              0.7777777777777778,
              "#fb9f3a"
             ],
             [
              0.8888888888888888,
              "#fdca26"
             ],
             [
              1,
              "#f0f921"
             ]
            ],
            "type": "histogram2dcontour"
           }
          ],
          "mesh3d": [
           {
            "colorbar": {
             "outlinewidth": 0,
             "ticks": ""
            },
            "type": "mesh3d"
           }
          ],
          "parcoords": [
           {
            "line": {
             "colorbar": {
              "outlinewidth": 0,
              "ticks": ""
             }
            },
            "type": "parcoords"
           }
          ],
          "pie": [
           {
            "automargin": true,
            "type": "pie"
           }
          ],
          "scatter": [
           {
            "fillpattern": {
             "fillmode": "overlay",
             "size": 10,
             "solidity": 0.2
            },
            "type": "scatter"
           }
          ],
          "scatter3d": [
           {
            "line": {
             "colorbar": {
              "outlinewidth": 0,
              "ticks": ""
             }
            },
            "marker": {
             "colorbar": {
              "outlinewidth": 0,
              "ticks": ""
             }
            },
            "type": "scatter3d"
           }
          ],
          "scattercarpet": [
           {
            "marker": {
             "colorbar": {
              "outlinewidth": 0,
              "ticks": ""
             }
            },
            "type": "scattercarpet"
           }
          ],
          "scattergeo": [
           {
            "marker": {
             "colorbar": {
              "outlinewidth": 0,
              "ticks": ""
             }
            },
            "type": "scattergeo"
           }
          ],
          "scattergl": [
           {
            "marker": {
             "colorbar": {
              "outlinewidth": 0,
              "ticks": ""
             }
            },
            "type": "scattergl"
           }
          ],
          "scattermapbox": [
           {
            "marker": {
             "colorbar": {
              "outlinewidth": 0,
              "ticks": ""
             }
            },
            "type": "scattermapbox"
           }
          ],
          "scatterpolar": [
           {
            "marker": {
             "colorbar": {
              "outlinewidth": 0,
              "ticks": ""
             }
            },
            "type": "scatterpolar"
           }
          ],
          "scatterpolargl": [
           {
            "marker": {
             "colorbar": {
              "outlinewidth": 0,
              "ticks": ""
             }
            },
            "type": "scatterpolargl"
           }
          ],
          "scatterternary": [
           {
            "marker": {
             "colorbar": {
              "outlinewidth": 0,
              "ticks": ""
             }
            },
            "type": "scatterternary"
           }
          ],
          "surface": [
           {
            "colorbar": {
             "outlinewidth": 0,
             "ticks": ""
            },
            "colorscale": [
             [
              0,
              "#0d0887"
             ],
             [
              0.1111111111111111,
              "#46039f"
             ],
             [
              0.2222222222222222,
              "#7201a8"
             ],
             [
              0.3333333333333333,
              "#9c179e"
             ],
             [
              0.4444444444444444,
              "#bd3786"
             ],
             [
              0.5555555555555556,
              "#d8576b"
             ],
             [
              0.6666666666666666,
              "#ed7953"
             ],
             [
              0.7777777777777778,
              "#fb9f3a"
             ],
             [
              0.8888888888888888,
              "#fdca26"
             ],
             [
              1,
              "#f0f921"
             ]
            ],
            "type": "surface"
           }
          ],
          "table": [
           {
            "cells": {
             "fill": {
              "color": "#EBF0F8"
             },
             "line": {
              "color": "white"
             }
            },
            "header": {
             "fill": {
              "color": "#C8D4E3"
             },
             "line": {
              "color": "white"
             }
            },
            "type": "table"
           }
          ]
         },
         "layout": {
          "annotationdefaults": {
           "arrowcolor": "#2a3f5f",
           "arrowhead": 0,
           "arrowwidth": 1
          },
          "autotypenumbers": "strict",
          "coloraxis": {
           "colorbar": {
            "outlinewidth": 0,
            "ticks": ""
           }
          },
          "colorscale": {
           "diverging": [
            [
             0,
             "#8e0152"
            ],
            [
             0.1,
             "#c51b7d"
            ],
            [
             0.2,
             "#de77ae"
            ],
            [
             0.3,
             "#f1b6da"
            ],
            [
             0.4,
             "#fde0ef"
            ],
            [
             0.5,
             "#f7f7f7"
            ],
            [
             0.6,
             "#e6f5d0"
            ],
            [
             0.7,
             "#b8e186"
            ],
            [
             0.8,
             "#7fbc41"
            ],
            [
             0.9,
             "#4d9221"
            ],
            [
             1,
             "#276419"
            ]
           ],
           "sequential": [
            [
             0,
             "#0d0887"
            ],
            [
             0.1111111111111111,
             "#46039f"
            ],
            [
             0.2222222222222222,
             "#7201a8"
            ],
            [
             0.3333333333333333,
             "#9c179e"
            ],
            [
             0.4444444444444444,
             "#bd3786"
            ],
            [
             0.5555555555555556,
             "#d8576b"
            ],
            [
             0.6666666666666666,
             "#ed7953"
            ],
            [
             0.7777777777777778,
             "#fb9f3a"
            ],
            [
             0.8888888888888888,
             "#fdca26"
            ],
            [
             1,
             "#f0f921"
            ]
           ],
           "sequentialminus": [
            [
             0,
             "#0d0887"
            ],
            [
             0.1111111111111111,
             "#46039f"
            ],
            [
             0.2222222222222222,
             "#7201a8"
            ],
            [
             0.3333333333333333,
             "#9c179e"
            ],
            [
             0.4444444444444444,
             "#bd3786"
            ],
            [
             0.5555555555555556,
             "#d8576b"
            ],
            [
             0.6666666666666666,
             "#ed7953"
            ],
            [
             0.7777777777777778,
             "#fb9f3a"
            ],
            [
             0.8888888888888888,
             "#fdca26"
            ],
            [
             1,
             "#f0f921"
            ]
           ]
          },
          "colorway": [
           "#636efa",
           "#EF553B",
           "#00cc96",
           "#ab63fa",
           "#FFA15A",
           "#19d3f3",
           "#FF6692",
           "#B6E880",
           "#FF97FF",
           "#FECB52"
          ],
          "font": {
           "color": "#2a3f5f"
          },
          "geo": {
           "bgcolor": "white",
           "lakecolor": "white",
           "landcolor": "#E5ECF6",
           "showlakes": true,
           "showland": true,
           "subunitcolor": "white"
          },
          "hoverlabel": {
           "align": "left"
          },
          "hovermode": "closest",
          "mapbox": {
           "style": "light"
          },
          "paper_bgcolor": "white",
          "plot_bgcolor": "#E5ECF6",
          "polar": {
           "angularaxis": {
            "gridcolor": "white",
            "linecolor": "white",
            "ticks": ""
           },
           "bgcolor": "#E5ECF6",
           "radialaxis": {
            "gridcolor": "white",
            "linecolor": "white",
            "ticks": ""
           }
          },
          "scene": {
           "xaxis": {
            "backgroundcolor": "#E5ECF6",
            "gridcolor": "white",
            "gridwidth": 2,
            "linecolor": "white",
            "showbackground": true,
            "ticks": "",
            "zerolinecolor": "white"
           },
           "yaxis": {
            "backgroundcolor": "#E5ECF6",
            "gridcolor": "white",
            "gridwidth": 2,
            "linecolor": "white",
            "showbackground": true,
            "ticks": "",
            "zerolinecolor": "white"
           },
           "zaxis": {
            "backgroundcolor": "#E5ECF6",
            "gridcolor": "white",
            "gridwidth": 2,
            "linecolor": "white",
            "showbackground": true,
            "ticks": "",
            "zerolinecolor": "white"
           }
          },
          "shapedefaults": {
           "line": {
            "color": "#2a3f5f"
           }
          },
          "ternary": {
           "aaxis": {
            "gridcolor": "white",
            "linecolor": "white",
            "ticks": ""
           },
           "baxis": {
            "gridcolor": "white",
            "linecolor": "white",
            "ticks": ""
           },
           "bgcolor": "#E5ECF6",
           "caxis": {
            "gridcolor": "white",
            "linecolor": "white",
            "ticks": ""
           }
          },
          "title": {
           "x": 0.05
          },
          "xaxis": {
           "automargin": true,
           "gridcolor": "white",
           "linecolor": "white",
           "ticks": "",
           "title": {
            "standoff": 15
           },
           "zerolinecolor": "white",
           "zerolinewidth": 2
          },
          "yaxis": {
           "automargin": true,
           "gridcolor": "white",
           "linecolor": "white",
           "ticks": "",
           "title": {
            "standoff": 15
           },
           "zerolinecolor": "white",
           "zerolinewidth": 2
          }
         }
        },
        "title": {
         "font": {
          "family": "Times New Roman"
         },
         "text": "InvertedPendulum",
         "x": 0.5,
         "xanchor": "center",
         "y": 0.99,
         "yanchor": "top"
        },
        "width": 800,
        "xaxis": {
         "autorange": true,
         "dtick": 200000,
         "gridcolor": "LightGrey",
         "griddash": "dash",
         "linecolor": "black",
         "linewidth": 2,
         "mirror": true,
         "range": [
          0,
          995000
         ],
         "showline": true,
         "tick0": 0,
         "tickmode": "linear",
         "ticks": "outside",
         "type": "linear"
        },
        "yaxis": {
         "autorange": true,
         "dtick": 200,
         "gridcolor": "LightGrey",
         "griddash": "dash",
         "linecolor": "black",
         "linewidth": 2,
         "mirror": true,
         "range": [
          47.889999999999986,
          778.69
         ],
         "showline": true,
         "tick0": 0,
         "tickmode": "linear",
         "ticks": "outside",
         "title": {
          "text": "Avg. Reward"
         },
         "type": "linear"
        }
       }
      },
      "image/png": "[encoded data removed]",
      "text/html": [
       "<div>                            <div id=\"ed85f98e-2a57-47ab-abc3-0a1a198a7f7b\" class=\"plotly-graph-div\" style=\"height:400px; width:800px;\"></div>            <script type=\"text/javascript\">                require([\"plotly\"], function(Plotly) {                    window.PLOTLYENV=window.PLOTLYENV || {};                                    if (document.getElementById(\"ed85f98e-2a57-47ab-abc3-0a1a198a7f7b\")) {                    Plotly.newPlot(                        \"ed85f98e-2a57-47ab-abc3-0a1a198a7f7b\",                        [{\"line\":{\"color\":\"Green\",\"dash\":\"dashdot\",\"width\":2},\"name\":\"SLA\",\"x\":[0,5000,10000,15000,20000,25000,30000,35000,40000,45000,50000,55000,60000,65000,70000,75000,80000,85000,90000,95000,100000,105000,110000,115000,120000,125000,130000,135000,140000,145000,150000,155000,160000,165000,170000,175000,180000,185000,190000,195000,200000,205000,210000,215000,220000,225000,230000,235000,240000,245000,250000,255000,260000,265000,270000,275000,280000,285000,290000,295000,300000,305000,310000,315000,320000,325000,330000,335000,340000,345000,350000,355000,360000,365000,370000,375000,380000,385000,390000,395000,400000,405000,410000,415000,420000,425000,430000,435000,440000,445000,450000,455000,460000,465000,470000,475000,480000,485000,490000,495000,500000,505000,510000,515000,520000,525000,530000,535000,540000,545000,550000,555000,560000,565000,570000,575000,580000,585000,590000,595000,600000,605000,610000,615000,620000,625000,630000,635000,640000,645000,650000,655000,660000,665000,670000,675000,680000,685000,690000,695000,700000,705000,710000,715000,720000,725000,730000,735000,740000,745000,750000,755000,760000,765000,770000,775000,780000,785000,790000,795000,800000,805000,810000,815000,820000,825000,830000,835000,840000,845000,850000,855000,860000,865000,870000,875000,880000,885000,890000,895000,900000,905000,910000,915000,920000,925000,930000,935000,940000,945000,950000,955000,960000,965000,970000,975000,980000,985000,990000,995000],\"y\":[84.42999999999999,103.11999999999998,107.02000000000001,123.94000000000001,149.95,146.01,190.3,202.54,204.01,238.18,240.68,255.3,260.47999999999996,258.04,249.81,260.9,249.5,285.09000000000003,303.74,296.4,303.44,307.30999999999995,290.15,299.59000000000003,326.1,318.98999999999995,358.65,348.42,386.59999999999997,307.38,382.46000000000004,390.41999999999996,384.29,355.05,355.07,423.40999999999997,427.36,422.73999999999995,452.65999999999997,418.6199999999999,411.39000000000004,404.02,460.71000000000004,470.91,377.85,437.5,431.45,416.28000000000003,457.95,432.1,390.79,373.62,452.73999999999995,470.66999999999996,459.25,458.9,468.15,468.6,468.23,546.8599999999999,481.02,516.1899999999999,423.3,498.8,438.68999999999994,512.5899999999999,501.95,604.3199999999999,530.44,522.0799999999999,523.07,517.9599999999999,571.16,472.68999999999994,505.75,553.6600000000001,627.46,534.7,560.6400000000001,631.4300000000001,478.8,582.8199999999999,519.5699999999999,539.64,559.96,547.3199999999999,582.13,579.74,513.1200000000001,477.89,507.25,543.5400000000001,522.99,405.12000000000006,607.37,491.62,464.94000000000005,623.0400000000001,480.4700000000001,525.89,548.11,546.1,591.9200000000001,607.9,546.3,603.04,409.09000000000003,570.79,594.58,623.3000000000001,509.68,512.2299999999999,725.6800000000001,494.77,477.78999999999996,439.14,675.38,651.71,558.8499999999999,394.97,594.76,434.1,540.05,569.4200000000001,571.9599999999999,474.86,554.93,509.3,476.95,665.9,525.3500000000001,535.4100000000001,522.42,550.3199999999999,592.8399999999999,589.3399999999999,544.2900000000001,513.4,591.4199999999998,459.4500000000001,480.87,645.8499999999999,517.3399999999999,521.14,634.9200000000001,567.4,370.52000000000004,561.86,579.03,603.5799999999999,617.96,470.1,507.5799999999999,590.57,556.6099999999999,612.4100000000001,648.78,562.9499999999999,642.39,463.64,592.1899999999999,715.7800000000001,464.07,524.9399999999999,563.33,546.87,527.9399999999999,464.78999999999996,739.31,524.1299999999999,575.83,585.9,650.24,584.6299999999999,513.9399999999999,586.1,579.01,521.9799999999999,645.1200000000001,565.7900000000002,485.96999999999997,670.1600000000001,659.7500000000001,571.36,455.28000000000003,556.1800000000001,629.95,572.78,550.0500000000001,523.9499999999999,601.97,569.47,577.6899999999998,480.78999999999996,540.8800000000002,446.4999999999999,583.78,496.55999999999995,448.53999999999996,742.1500000000001],\"type\":\"scatter\"}],                        {\"template\":{\"data\":{\"histogram2dcontour\":[{\"type\":\"histogram2dcontour\",\"colorbar\":{\"outlinewidth\":0,\"ticks\":\"\"},\"colorscale\":[[0.0,\"#0d0887\"],[0.1111111111111111,\"#46039f\"],[0.2222222222222222,\"#7201a8\"],[0.3333333333333333,\"#9c179e\"],[0.4444444444444444,\"#bd3786\"],[0.5555555555555556,\"#d8576b\"],[0.6666666666666666,\"#ed7953\"],[0.7777777777777778,\"#fb9f3a\"],[0.8888888888888888,\"#fdca26\"],[1.0,\"#f0f921\"]]}],\"choropleth\":[{\"type\":\"choropleth\",\"colorbar\":{\"outlinewidth\":0,\"ticks\":\"\"}}],\"histogram2d\":[{\"type\":\"histogram2d\",\"colorbar\":{\"outlinewidth\":0,\"ticks\":\"\"},\"colorscale\":[[0.0,\"#0d0887\"],[0.1111111111111111,\"#46039f\"],[0.2222222222222222,\"#7201a8\"],[0.3333333333333333,\"#9c179e\"],[0.4444444444444444,\"#bd3786\"],[0.5555555555555556,\"#d8576b\"],[0.6666666666666666,\"#ed7953\"],[0.7777777777777778,\"#fb9f3a\"],[0.8888888888888888,\"#fdca26\"],[1.0,\"#f0f921\"]]}],\"heatmap\":[{\"type\":\"heatmap\",\"colorbar\":{\"outlinewidth\":0,\"ticks\":\"\"},\"colorscale\":[[0.0,\"#0d0887\"],[0.1111111111111111,\"#46039f\"],[0.2222222222222222,\"#7201a8\"],[0.3333333333333333,\"#9c179e\"],[0.4444444444444444,\"#bd3786\"],[0.5555555555555556,\"#d8576b\"],[0.6666666666666666,\"#ed7953\"],[0.7777777777777778,\"#fb9f3a\"],[0.8888888888888888,\"#fdca26\"],[1.0,\"#f0f921\"]]}],\"heatmapgl\":[{\"type\":\"heatmapgl\",\"colorbar\":{\"outlinewidth\":0,\"ticks\":\"\"},\"colorscale\":[[0.0,\"#0d0887\"],[0.1111111111111111,\"#46039f\"],[0.2222222222222222,\"#7201a8\"],[0.3333333333333333,\"#9c179e\"],[0.4444444444444444,\"#bd3786\"],[0.5555555555555556,\"#d8576b\"],[0.6666666666666666,\"#ed7953\"],[0.7777777777777778,\"#fb9f3a\"],[0.8888888888888888,\"#fdca26\"],[1.0,\"#f0f921\"]]}],\"contourcarpet\":[{\"type\":\"contourcarpet\",\"colorbar\":{\"outlinewidth\":0,\"ticks\":\"\"}}],\"contour\":[{\"type\":\"contour\",\"colorbar\":{\"outlinewidth\":0,\"ticks\":\"\"},\"colorscale\":[[0.0,\"#0d0887\"],[0.1111111111111111,\"#46039f\"],[0.2222222222222222,\"#7201a8\"],[0.3333333333333333,\"#9c179e\"],[0.4444444444444444,\"#bd3786\"],[0.5555555555555556,\"#d8576b\"],[0.6666666666666666,\"#ed7953\"],[0.7777777777777778,\"#fb9f3a\"],[0.8888888888888888,\"#fdca26\"],[1.0,\"#f0f921\"]]}],\"surface\":[{\"type\":\"surface\",\"colorbar\":{\"outlinewidth\":0,\"ticks\":\"\"},\"colorscale\":[[0.0,\"#0d0887\"],[0.1111111111111111,\"#46039f\"],[0.2222222222222222,\"#7201a8\"],[0.3333333333333333,\"#9c179e\"],[0.4444444444444444,\"#bd3786\"],[0.5555555555555556,\"#d8576b\"],[0.6666666666666666,\"#ed7953\"],[0.7777777777777778,\"#fb9f3a\"],[0.8888888888888888,\"#fdca26\"],[1.0,\"#f0f921\"]]}],\"mesh3d\":[{\"type\":\"mesh3d\",\"colorbar\":{\"outlinewidth\":0,\"ticks\":\"\"}}],\"scatter\":[{\"fillpattern\":{\"fillmode\":\"overlay\",\"size\":10,\"solidity\":0.2},\"type\":\"scatter\"}],\"parcoords\":[{\"type\":\"parcoords\",\"line\":{\"colorbar\":{\"outlinewidth\":0,\"ticks\":\"\"}}}],\"scatterpolargl\":[{\"type\":\"scatterpolargl\",\"marker\":{\"colorbar\":{\"outlinewidth\":0,\"ticks\":\"\"}}}],\"bar\":[{\"error_x\":{\"color\":\"#2a3f5f\"},\"error_y\":{\"color\":\"#2a3f5f\"},\"marker\":{\"line\":{\"color\":\"#E5ECF6\",\"width\":0.5},\"pattern\":{\"fillmode\":\"overlay\",\"size\":10,\"solidity\":0.2}},\"type\":\"bar\"}],\"scattergeo\":[{\"type\":\"scattergeo\",\"marker\":{\"colorbar\":{\"outlinewidth\":0,\"ticks\":\"\"}}}],\"scatterpolar\":[{\"type\":\"scatterpolar\",\"marker\":{\"colorbar\":{\"outlinewidth\":0,\"ticks\":\"\"}}}],\"histogram\":[{\"marker\":{\"pattern\":{\"fillmode\":\"overlay\",\"size\":10,\"solidity\":0.2}},\"type\":\"histogram\"}],\"scattergl\":[{\"type\":\"scattergl\",\"marker\":{\"colorbar\":{\"outlinewidth\":0,\"ticks\":\"\"}}}],\"scatter3d\":[{\"type\":\"scatter3d\",\"line\":{\"colorbar\":{\"outlinewidth\":0,\"ticks\":\"\"}},\"marker\":{\"colorbar\":{\"outlinewidth\":0,\"ticks\":\"\"}}}],\"scattermapbox\":[{\"type\":\"scattermapbox\",\"marker\":{\"colorbar\":{\"outlinewidth\":0,\"ticks\":\"\"}}}],\"scatterternary\":[{\"type\":\"scatterternary\",\"marker\":{\"colorbar\":{\"outlinewidth\":0,\"ticks\":\"\"}}}],\"scattercarpet\":[{\"type\":\"scattercarpet\",\"marker\":{\"colorbar\":{\"outlinewidth\":0,\"ticks\":\"\"}}}],\"carpet\":[{\"aaxis\":{\"endlinecolor\":\"#2a3f5f\",\"gridcolor\":\"white\",\"linecolor\":\"white\",\"minorgridcolor\":\"white\",\"startlinecolor\":\"#2a3f5f\"},\"baxis\":{\"endlinecolor\":\"#2a3f5f\",\"gridcolor\":\"white\",\"linecolor\":\"white\",\"minorgridcolor\":\"white\",\"startlinecolor\":\"#2a3f5f\"},\"type\":\"carpet\"}],\"table\":[{\"cells\":{\"fill\":{\"color\":\"#EBF0F8\"},\"line\":{\"color\":\"white\"}},\"header\":{\"fill\":{\"color\":\"#C8D4E3\"},\"line\":{\"color\":\"white\"}},\"type\":\"table\"}],\"barpolar\":[{\"marker\":{\"line\":{\"color\":\"#E5ECF6\",\"width\":0.5},\"pattern\":{\"fillmode\":\"overlay\",\"size\":10,\"solidity\":0.2}},\"type\":\"barpolar\"}],\"pie\":[{\"automargin\":true,\"type\":\"pie\"}]},\"layout\":{\"autotypenumbers\":\"strict\",\"colorway\":[\"#636efa\",\"#EF553B\",\"#00cc96\",\"#ab63fa\",\"#FFA15A\",\"#19d3f3\",\"#FF6692\",\"#B6E880\",\"#FF97FF\",\"#FECB52\"],\"font\":{\"color\":\"#2a3f5f\"},\"hovermode\":\"closest\",\"hoverlabel\":{\"align\":\"left\"},\"paper_bgcolor\":\"white\",\"plot_bgcolor\":\"#E5ECF6\",\"polar\":{\"bgcolor\":\"#E5ECF6\",\"angularaxis\":{\"gridcolor\":\"white\",\"linecolor\":\"white\",\"ticks\":\"\"},\"radialaxis\":{\"gridcolor\":\"white\",\"linecolor\":\"white\",\"ticks\":\"\"}},\"ternary\":{\"bgcolor\":\"#E5ECF6\",\"aaxis\":{\"gridcolor\":\"white\",\"linecolor\":\"white\",\"ticks\":\"\"},\"baxis\":{\"gridcolor\":\"white\",\"linecolor\":\"white\",\"ticks\":\"\"},\"caxis\":{\"gridcolor\":\"white\",\"linecolor\":\"white\",\"ticks\":\"\"}},\"coloraxis\":{\"colorbar\":{\"outlinewidth\":0,\"ticks\":\"\"}},\"colorscale\":{\"sequential\":[[0.0,\"#0d0887\"],[0.1111111111111111,\"#46039f\"],[0.2222222222222222,\"#7201a8\"],[0.3333333333333333,\"#9c179e\"],[0.4444444444444444,\"#bd3786\"],[0.5555555555555556,\"#d8576b\"],[0.6666666666666666,\"#ed7953\"],[0.7777777777777778,\"#fb9f3a\"],[0.8888888888888888,\"#fdca26\"],[1.0,\"#f0f921\"]],\"sequentialminus\":[[0.0,\"#0d0887\"],[0.1111111111111111,\"#46039f\"],[0.2222222222222222,\"#7201a8\"],[0.3333333333333333,\"#9c179e\"],[0.4444444444444444,\"#bd3786\"],[0.5555555555555556,\"#d8576b\"],[0.6666666666666666,\"#ed7953\"],[0.7777777777777778,\"#fb9f3a\"],[0.8888888888888888,\"#fdca26\"],[1.0,\"#f0f921\"]],\"diverging\":[[0,\"#8e0152\"],[0.1,\"#c51b7d\"],[0.2,\"#de77ae\"],[0.3,\"#f1b6da\"],[0.4,\"#fde0ef\"],[0.5,\"#f7f7f7\"],[0.6,\"#e6f5d0\"],[0.7,\"#b8e186\"],[0.8,\"#7fbc41\"],[0.9,\"#4d9221\"],[1,\"#276419\"]]},\"xaxis\":{\"gridcolor\":\"white\",\"linecolor\":\"white\",\"ticks\":\"\",\"title\":{\"standoff\":15},\"zerolinecolor\":\"white\",\"automargin\":true,\"zerolinewidth\":2},\"yaxis\":{\"gridcolor\":\"white\",\"linecolor\":\"white\",\"ticks\":\"\",\"title\":{\"standoff\":15},\"zerolinecolor\":\"white\",\"automargin\":true,\"zerolinewidth\":2},\"scene\":{\"xaxis\":{\"backgroundcolor\":\"#E5ECF6\",\"gridcolor\":\"white\",\"linecolor\":\"white\",\"showbackground\":true,\"ticks\":\"\",\"zerolinecolor\":\"white\",\"gridwidth\":2},\"yaxis\":{\"backgroundcolor\":\"#E5ECF6\",\"gridcolor\":\"white\",\"linecolor\":\"white\",\"showbackground\":true,\"ticks\":\"\",\"zerolinecolor\":\"white\",\"gridwidth\":2},\"zaxis\":{\"backgroundcolor\":\"#E5ECF6\",\"gridcolor\":\"white\",\"linecolor\":\"white\",\"showbackground\":true,\"ticks\":\"\",\"zerolinecolor\":\"white\",\"gridwidth\":2}},\"shapedefaults\":{\"line\":{\"color\":\"#2a3f5f\"}},\"annotationdefaults\":{\"arrowcolor\":\"#2a3f5f\",\"arrowhead\":0,\"arrowwidth\":1},\"geo\":{\"bgcolor\":\"white\",\"landcolor\":\"#E5ECF6\",\"subunitcolor\":\"white\",\"showland\":true,\"showlakes\":true,\"lakecolor\":\"white\"},\"title\":{\"x\":0.05},\"mapbox\":{\"style\":\"light\"}}},\"margin\":{\"l\":2,\"r\":2,\"b\":2,\"t\":40,\"pad\":0},\"title\":{\"font\":{\"family\":\"Times New Roman\"},\"text\":\"InvertedPendulum\",\"y\":0.99,\"x\":0.5,\"xanchor\":\"center\",\"yanchor\":\"top\"},\"font\":{\"family\":\"Times New Roman\",\"size\":20},\"legend\":{\"yanchor\":\"bottom\",\"y\":0.0,\"xanchor\":\"right\",\"x\":1.2},\"xaxis\":{\"tickmode\":\"linear\",\"tick0\":0,\"dtick\":200000,\"gridcolor\":\"LightGrey\",\"griddash\":\"dash\",\"mirror\":true,\"ticks\":\"outside\",\"showline\":true,\"linewidth\":2,\"linecolor\":\"black\"},\"yaxis\":{\"title\":{\"text\":\"Avg. Reward\"},\"tickmode\":\"linear\",\"tick0\":0,\"dtick\":200,\"gridcolor\":\"LightGrey\",\"griddash\":\"dash\",\"mirror\":true,\"ticks\":\"outside\",\"showline\":true,\"linewidth\":2,\"linecolor\":\"black\"},\"width\":800,\"height\":400,\"showlegend\":true,\"plot_bgcolor\":\"white\"},                        {\"responsive\": true}                    ).then(function(){\n",
       "                            \n",
       "var gd = document.getElementById('ed85f98e-2a57-47ab-abc3-0a1a198a7f7b');\n",
       "var x = new MutationObserver(function (mutations, observer) {{\n",
       "        var display = window.getComputedStyle(gd).display;\n",
       "        if (!display || display === 'none') {{\n",
       "            console.log([gd, 'removed!']);\n",
       "            Plotly.purge(gd);\n",
       "            observer.disconnect();\n",
       "        }}\n",
       "}});\n",
       "\n",
       "// Listen for the removal of the full notebook cells\n",
       "var notebookContainer = gd.closest('#notebook-container');\n",
       "if (notebookContainer) {{\n",
       "    x.observe(notebookContainer, {childList: true});\n",
       "}}\n",
       "\n",
       "// Listen for the clearing of the current output cell\n",
       "var outputEl = gd.closest('.output');\n",
       "if (outputEl) {{\n",
       "    x.observe(outputEl, {childList: true});\n",
       "}}\n",
       "\n",
       "                        })                };                });            </script>        </div>"
      ]
     },
     "metadata": {},
     "output_type": "display_data"
    }
   ],
   "source": [
    "fig = go.Figure()\n",
    "\n",
    "x = list(i*5000 for i in range(total.shape[0]))\n",
    "\n",
    "fig.add_trace(go.Scatter(\n",
    "    x=x, y=lcs,\n",
    "    line_color='Green',\n",
    "    name='SLA',\n",
    "     line=dict(dash='dashdot', width=2)\n",
    "))\n",
    "\n",
    "\n",
    "# fig.add_trace(go.Scatter(\n",
    "#     x=x, y=td3,\n",
    "#     line_color='Blue',\n",
    "#     name='TD3',\n",
    "#     line=dict(width=2)\n",
    "# ))\n",
    "\n",
    "\n",
    "fig.update_layout(width=800, height=400,  \n",
    "                  margin=dict(\n",
    "        l=2,\n",
    "        r=2,\n",
    "        b=2,\n",
    "        t=40,\n",
    "        pad=0\n",
    "    ), \n",
    "                  title={\n",
    "        'text': \"InvertedPendulum\",\n",
    "        'y':.99,\n",
    "        'x':0.5,\n",
    "        'xanchor': 'center',\n",
    "        'yanchor': 'top'}\n",
    "    , \n",
    "                  yaxis_title=\"Avg. Reward\", \n",
    "                   font_family=\"Times New Roman\",\n",
    "                title_font_family=\"Times New Roman\",\n",
    "                  font_size=20,\n",
    "                  legend=dict(\n",
    "                        yanchor=\"bottom\",\n",
    "                        y=0.0,\n",
    "                        xanchor=\"right\",\n",
    "                        x=1.2,\n",
    "                    ), \n",
    "                  showlegend=True, plot_bgcolor = \"white\",\n",
    "    xaxis = dict(\n",
    "        tickmode = 'linear',\n",
    "        tick0 = 0,\n",
    "        dtick = 200000,\n",
    "        gridcolor=\"LightGrey\",\n",
    "        griddash=\"dash\",\n",
    "        mirror=True,\n",
    "        ticks='outside',\n",
    "        showline=True,\n",
    "        linewidth=2,\n",
    "        linecolor='black'\n",
    "        \n",
    "    ),  yaxis = dict(\n",
    "        tickmode = 'linear',\n",
    "        tick0 = 0,\n",
    "        dtick = 200,\n",
    "        gridcolor=\"LightGrey\",\n",
    "         griddash=\"dash\",\n",
    "                mirror=True,\n",
    "        ticks='outside',\n",
    "        showline=True,\n",
    "        linewidth=2,\n",
    "        linecolor='black'\n",
    "    ))"
   ]
  },
  {
   "cell_type": "code",
   "execution_count": 12,
   "id": "4e7a66ae-baf1-4254-8945-5f62d8b15ab0",
   "metadata": {},
   "outputs": [
    {
     "name": "stderr",
     "output_type": "stream",
     "text": [
      " 10%|████████████▏                                                                                                             | 1/10 [00:03<00:32,  3.57s/it]"
     ]
    },
    {
     "name": "stdout",
     "output_type": "stream",
     "text": [
      "945.2\n"
     ]
    },
    {
     "name": "stderr",
     "output_type": "stream",
     "text": [
      " 20%|████████████████████████▍                                                                                                 | 2/10 [00:07<00:28,  3.54s/it]"
     ]
    },
    {
     "name": "stdout",
     "output_type": "stream",
     "text": [
      "1000.0\n"
     ]
    },
    {
     "name": "stderr",
     "output_type": "stream",
     "text": [
      " 30%|████████████████████████████████████▌                                                                                     | 3/10 [00:10<00:23,  3.29s/it]"
     ]
    },
    {
     "name": "stdout",
     "output_type": "stream",
     "text": [
      "818.5\n"
     ]
    },
    {
     "name": "stderr",
     "output_type": "stream",
     "text": [
      " 40%|████████████████████████████████████████████████▊                                                                         | 4/10 [00:13<00:19,  3.22s/it]"
     ]
    },
    {
     "name": "stdout",
     "output_type": "stream",
     "text": [
      "838.9\n"
     ]
    },
    {
     "name": "stderr",
     "output_type": "stream",
     "text": [
      " 50%|█████████████████████████████████████████████████████████████                                                             | 5/10 [00:16<00:15,  3.20s/it]"
     ]
    },
    {
     "name": "stdout",
     "output_type": "stream",
     "text": [
      "971.3\n"
     ]
    },
    {
     "name": "stderr",
     "output_type": "stream",
     "text": [
      " 60%|█████████████████████████████████████████████████████████████████████████▏                                                | 6/10 [00:19<00:12,  3.16s/it]"
     ]
    },
    {
     "name": "stdout",
     "output_type": "stream",
     "text": [
      "880.3\n"
     ]
    },
    {
     "name": "stderr",
     "output_type": "stream",
     "text": [
      " 70%|█████████████████████████████████████████████████████████████████████████████████████▍                                    | 7/10 [00:21<00:08,  2.95s/it]"
     ]
    },
    {
     "name": "stdout",
     "output_type": "stream",
     "text": [
      "824.9\n"
     ]
    },
    {
     "name": "stderr",
     "output_type": "stream",
     "text": [
      " 80%|█████████████████████████████████████████████████████████████████████████████████████████████████▌                        | 8/10 [00:24<00:05,  2.88s/it]"
     ]
    },
    {
     "name": "stdout",
     "output_type": "stream",
     "text": [
      "953.2\n"
     ]
    },
    {
     "name": "stderr",
     "output_type": "stream",
     "text": [
      " 90%|█████████████████████████████████████████████████████████████████████████████████████████████████████████████▊            | 9/10 [00:27<00:02,  2.77s/it]"
     ]
    },
    {
     "name": "stdout",
     "output_type": "stream",
     "text": [
      "766.3\n"
     ]
    },
    {
     "name": "stderr",
     "output_type": "stream",
     "text": [
      "100%|█████████████████████████████████████████████████████████████████████████████████████████████████████████████████████████| 10/10 [00:30<00:00,  3.08s/it]"
     ]
    },
    {
     "name": "stdout",
     "output_type": "stream",
     "text": [
      "1000.0\n"
     ]
    },
    {
     "name": "stderr",
     "output_type": "stream",
     "text": [
      "\n"
     ]
    }
   ],
   "source": [
    "env_name = \"InvertedPendulum-v2\"\n",
    "layers = get_layers(env_name)\n",
    "num_layers = layers['layers']\n",
    "hy = get_hyperparameters(env_name)\n",
    "timestep = hy['timestep']\n",
    "env = make_env(env_name, 0, clock_wrapper=layers['clock'], clock_dim=layers['clock_dim'], prev_action_wrapper=layers['previous_action'])\n",
    "state_dim = env.observation_space.shape[0]\n",
    "action_dim = env.action_space.shape[0]\n",
    "max_action = float(env.action_space.high[0])\n",
    "kwargs = {\"state_dim\": state_dim, \"action_dim\": action_dim, \"max_action\": max_action, \"discount\": hy['discount'],\n",
    "          \"tau\": hy['tau'],\n",
    "          \"policy_noise\": hy['policy_noise'] * max_action, \"noise_clip\": hy['noise_clip'] * max_action,\n",
    "          \"policy_freq\": hy['policy_freq'], \"neurons\": [400, 300]}\n",
    "\n",
    "dfall = pd.DataFrame(columns=[\"seed\", \"noise\", \"avg. Reward\"])\n",
    "\n",
    "for seed in tqdm(range(10)):\n",
    "    policies = []\n",
    "    augment_type = \"AsymTD3\"\n",
    "    arguments = [augment_type, env_name, seed]\n",
    "    file_name = '_'.join([str(x) for x in arguments])\n",
    "    k = copy.deepcopy(kwargs)\n",
    "    k[\"removed_indices\"] = layers['layer1']\n",
    "    policy = TD3.TempoRLTLA(**k)\n",
    "    policy.load(f\"../models/{file_name}_best\")\n",
    "\n",
    "\n",
    "    env = make_env(env_name, seed, clock_wrapper=layers['clock'], clock_dim=layers['clock_dim'], prev_action_wrapper=layers['previous_action'])\n",
    "    noise = i * 0.05\n",
    "    eval_reward = 0\n",
    "    for i in range(10):\n",
    "        eval_state, eval_done = env.reset(), False\n",
    "        while not eval_done:\n",
    "            eval_action = policy.select_action(eval_state)\n",
    "            eval_next_state, eval_r, eval_done, _ = env.step(eval_action)\n",
    "            eval_reward += eval_r\n",
    "            eval_state = eval_next_state\n",
    "\n",
    "    avg_reward = eval_reward/10\n",
    "    print(avg_reward)"
   ]
  },
  {
   "cell_type": "code",
   "execution_count": null,
   "id": "ebf747c1-2b51-4814-8ad8-37b90c8a6822",
   "metadata": {},
   "outputs": [],
   "source": []
  }
 ],
 "metadata": {
  "kernelspec": {
   "display_name": "Python 3 (ipykernel)",
   "language": "python",
   "name": "python3"
  },
  "language_info": {
   "codemirror_mode": {
    "name": "ipython",
    "version": 3
   },
   "file_extension": ".py",
   "mimetype": "text/x-python",
   "name": "python",
   "nbconvert_exporter": "python",
   "pygments_lexer": "ipython3",
   "version": "3.7.8rc1"
  }
 },
 "nbformat": 4,
 "nbformat_minor": 5
}
